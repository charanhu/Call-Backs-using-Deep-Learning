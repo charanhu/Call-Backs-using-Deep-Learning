{
 "cells": [
  {
   "cell_type": "markdown",
   "metadata": {
    "id": "AQDRNrY2NCXf"
   },
   "source": [
    "<pre>\n",
    "1. Download the data from <a href='https://drive.google.com/file/d/15dCNcmKskcFVjs7R0ElQkR61Ex53uJpM/view?usp=sharing'>here</a>\n",
    "\n",
    "2. Code the model to classify data like below image\n",
    "\n",
    "<img src='https://i.imgur.com/33ptOFy.png'>\n",
    "\n",
    "3. Write your own callback function, that has to print the micro F1 score and AUC score after each epoch.\n",
    "\n",
    "4. Save your model at every epoch if your validation accuracy is improved from previous epoch. \n",
    "\n",
    "5. you have to decay learning based on below conditions \n",
    "        Cond1. If your validation accuracy at that epoch is less than previous epoch accuracy, you have to decrese the\n",
    "               learning rate by 10%. \n",
    "        Cond2. For every 3rd epoch, decay your learning rate by 5%.\n",
    "        \n",
    "6. If you are getting any NaN values(either weigths or loss) while training, you have to terminate your training. \n",
    "\n",
    "7. You have to stop the training if your validation accuracy is not increased in last 2 epochs.\n",
    "\n",
    "8. Use tensorboard for every model and analyse your gradients. (you need to upload the screenshots for each model for evaluation)\n",
    "\n",
    "9. use cross entropy as loss function\n",
    "\n",
    "10. Try the architecture params as given below. \n",
    "</pre>"
   ]
  },
  {
   "cell_type": "markdown",
   "metadata": {
    "id": "w41Y3TFENCXk"
   },
   "source": [
    "<pre>\n",
    "<b>Model-1</b>\n",
    "<pre>\n",
    "1. Use tanh as an activation for every layer except output layer.\n",
    "2. use SGD with momentum as optimizer.\n",
    "3. use RandomUniform(0,1) as initilizer.\n",
    "3. Analyze your output and training process. \n",
    "</pre>\n",
    "</pre>\n",
    "<pre>\n",
    "<b>Model-2</b>\n",
    "<pre>\n",
    "1. Use relu as an activation for every layer except output layer.\n",
    "2. use SGD with momentum as optimizer.\n",
    "3. use RandomUniform(0,1) as initilizer.\n",
    "3. Analyze your output and training process. \n",
    "</pre>\n",
    "</pre>\n",
    "<pre>\n",
    "<b>Model-3</b>\n",
    "<pre>\n",
    "1. Use relu as an activation for every layer except output layer.\n",
    "2. use SGD with momentum as optimizer.\n",
    "3. use he_uniform() as initilizer.\n",
    "3. Analyze your output and training process. \n",
    "</pre>\n",
    "</pre>\n",
    "<pre>\n",
    "<b>Model-4</b>\n",
    "<pre>\n",
    "1. Try with any values to get better accuracy/f1 score.  \n",
    "</pre>\n",
    "</pre>"
   ]
  },
  {
   "cell_type": "code",
   "execution_count": 125,
   "metadata": {
    "colab": {
     "base_uri": "https://localhost:8080/"
    },
    "id": "0AScs2xAvb8T",
    "outputId": "f9146325-3582-4406-9796-1a03bc3505cf"
   },
   "outputs": [
    {
     "name": "stdout",
     "output_type": "stream",
     "text": [
      "Drive already mounted at /content/drive; to attempt to forcibly remount, call drive.mount(\"/content/drive\", force_remount=True).\n"
     ]
    }
   ],
   "source": [
    "from google.colab import drive\n",
    "drive.mount('/content/drive')"
   ]
  },
  {
   "cell_type": "code",
   "execution_count": 320,
   "metadata": {
    "id": "-Gm4eXkLj7oS"
   },
   "outputs": [],
   "source": [
    "#importing required libraries\n",
    "\n",
    "import pandas as pd\n",
    "import numpy as np\n",
    "import matplotlib.pyplot as plt\n",
    "import tensorflow as tf\n",
    "from sklearn.model_selection import train_test_split\n",
    "from tensorflow.keras.layers import Dense,Input,Activation\n",
    "from tensorflow.keras.models import Model\n",
    "import random as rn\n",
    "from tensorflow.keras.models import Sequential, load_model \n",
    "from tensorflow.keras.layers import Dense, Activation \n",
    "from sklearn.metrics import confusion_matrix, f1_score, precision_score, recall_score, roc_auc_score\n",
    "from tensorflow.keras.callbacks import Callback, ModelCheckpoint, TensorBoard, LearningRateScheduler, EarlyStopping, ReduceLROnPlateau\n",
    "import tensorflow.keras.backend as K\n",
    "from tensorflow.keras.initializers import RandomUniform, HeUniform\n",
    "from tensorflow.keras.optimizers import SGD, Adam\n",
    "import datetime"
   ]
  },
  {
   "cell_type": "markdown",
   "metadata": {},
   "source": [
    "# Loading data"
   ]
  },
  {
   "cell_type": "code",
   "execution_count": 267,
   "metadata": {
    "id": "0NtIHHOR8Q1q"
   },
   "outputs": [],
   "source": [
    "data=pd.read_csv('/content/drive/MyDrive/AAIC/20_Working with Callbacks/data.csv')       #load the data"
   ]
  },
  {
   "cell_type": "code",
   "execution_count": 205,
   "metadata": {
    "colab": {
     "base_uri": "https://localhost:8080/"
    },
    "id": "pTQJM5qzj7mB",
    "outputId": "c3bdb05b-b0de-47f2-9d65-71cfa1ca9396"
   },
   "outputs": [
    {
     "data": {
      "text/plain": [
       "(20000, 3)"
      ]
     },
     "execution_count": 205,
     "metadata": {},
     "output_type": "execute_result"
    }
   ],
   "source": [
    "data.shape"
   ]
  },
  {
   "cell_type": "code",
   "execution_count": 206,
   "metadata": {
    "colab": {
     "base_uri": "https://localhost:8080/",
     "height": 265
    },
    "id": "q4A6EAkCj7aN",
    "outputId": "dc74f527-4673-4bab-a62f-f456209c4436"
   },
   "outputs": [
    {
     "data": {
      "image/png": "[encoded data removed]",
      "text/plain": [
       "<Figure size 432x288 with 1 Axes>"
      ]
     },
     "metadata": {
      "needs_background": "light"
     },
     "output_type": "display_data"
    }
   ],
   "source": [
    "\n",
    "plt.plot(data)\n",
    "plt.show()"
   ]
  },
  {
   "cell_type": "code",
   "execution_count": 207,
   "metadata": {
    "colab": {
     "base_uri": "https://localhost:8080/",
     "height": 412
    },
    "id": "Ldn4qTJ67TZK",
    "outputId": "6054d102-14cb-4779-f1bf-4a4f9bd09a4e"
   },
   "outputs": [
    {
     "data": {
      "text/html": [
       "<div>\n",
       "<style scoped>\n",
       "    .dataframe tbody tr th:only-of-type {\n",
       "        vertical-align: middle;\n",
       "    }\n",
       "\n",
       "    .dataframe tbody tr th {\n",
       "        vertical-align: top;\n",
       "    }\n",
       "\n",
       "    .dataframe thead th {\n",
       "        text-align: right;\n",
       "    }\n",
       "</style>\n",
       "<table border=\"1\" class=\"dataframe\">\n",
       "  <thead>\n",
       "    <tr style=\"text-align: right;\">\n",
       "      <th></th>\n",
       "      <th>f1</th>\n",
       "      <th>f2</th>\n",
       "      <th>label</th>\n",
       "    </tr>\n",
       "  </thead>\n",
       "  <tbody>\n",
       "    <tr>\n",
       "      <th>0</th>\n",
       "      <td>0.450564</td>\n",
       "      <td>1.074305</td>\n",
       "      <td>0.0</td>\n",
       "    </tr>\n",
       "    <tr>\n",
       "      <th>1</th>\n",
       "      <td>0.085632</td>\n",
       "      <td>0.967682</td>\n",
       "      <td>0.0</td>\n",
       "    </tr>\n",
       "    <tr>\n",
       "      <th>2</th>\n",
       "      <td>0.117326</td>\n",
       "      <td>0.971521</td>\n",
       "      <td>1.0</td>\n",
       "    </tr>\n",
       "    <tr>\n",
       "      <th>3</th>\n",
       "      <td>0.982179</td>\n",
       "      <td>-0.380408</td>\n",
       "      <td>0.0</td>\n",
       "    </tr>\n",
       "    <tr>\n",
       "      <th>4</th>\n",
       "      <td>-0.720352</td>\n",
       "      <td>0.955850</td>\n",
       "      <td>0.0</td>\n",
       "    </tr>\n",
       "    <tr>\n",
       "      <th>...</th>\n",
       "      <td>...</td>\n",
       "      <td>...</td>\n",
       "      <td>...</td>\n",
       "    </tr>\n",
       "    <tr>\n",
       "      <th>19995</th>\n",
       "      <td>-0.491252</td>\n",
       "      <td>-0.561558</td>\n",
       "      <td>0.0</td>\n",
       "    </tr>\n",
       "    <tr>\n",
       "      <th>19996</th>\n",
       "      <td>-0.813124</td>\n",
       "      <td>0.049423</td>\n",
       "      <td>1.0</td>\n",
       "    </tr>\n",
       "    <tr>\n",
       "      <th>19997</th>\n",
       "      <td>-0.010594</td>\n",
       "      <td>0.138790</td>\n",
       "      <td>1.0</td>\n",
       "    </tr>\n",
       "    <tr>\n",
       "      <th>19998</th>\n",
       "      <td>0.671827</td>\n",
       "      <td>0.804306</td>\n",
       "      <td>0.0</td>\n",
       "    </tr>\n",
       "    <tr>\n",
       "      <th>19999</th>\n",
       "      <td>-0.854865</td>\n",
       "      <td>-0.588826</td>\n",
       "      <td>0.0</td>\n",
       "    </tr>\n",
       "  </tbody>\n",
       "</table>\n",
       "<p>20000 rows × 3 columns</p>\n",
       "</div>"
      ],
      "text/plain": [
       "             f1        f2  label\n",
       "0      0.450564  1.074305    0.0\n",
       "1      0.085632  0.967682    0.0\n",
       "2      0.117326  0.971521    1.0\n",
       "3      0.982179 -0.380408    0.0\n",
       "4     -0.720352  0.955850    0.0\n",
       "...         ...       ...    ...\n",
       "19995 -0.491252 -0.561558    0.0\n",
       "19996 -0.813124  0.049423    1.0\n",
       "19997 -0.010594  0.138790    1.0\n",
       "19998  0.671827  0.804306    0.0\n",
       "19999 -0.854865 -0.588826    0.0\n",
       "\n",
       "[20000 rows x 3 columns]"
      ]
     },
     "execution_count": 207,
     "metadata": {},
     "output_type": "execute_result"
    }
   ],
   "source": [
    "data"
   ]
  },
  {
   "cell_type": "markdown",
   "metadata": {},
   "source": [
    "# Separating class lables and data point(X, Y)"
   ]
  },
  {
   "cell_type": "code",
   "execution_count": 268,
   "metadata": {
    "id": "0hvqRpbW7Vf7"
   },
   "outputs": [],
   "source": [
    "y=data['label'].values"
   ]
  },
  {
   "cell_type": "code",
   "execution_count": 269,
   "metadata": {
    "colab": {
     "base_uri": "https://localhost:8080/"
    },
    "id": "6O8mPaTl7b6Y",
    "outputId": "1394074e-a217-4ade-ddad-8ebf78a8586e"
   },
   "outputs": [
    {
     "data": {
      "text/plain": [
       "array([0., 0., 1., ..., 1., 0., 0.])"
      ]
     },
     "execution_count": 269,
     "metadata": {},
     "output_type": "execute_result"
    }
   ],
   "source": [
    "y"
   ]
  },
  {
   "cell_type": "code",
   "execution_count": 270,
   "metadata": {
    "id": "HM_faWNP7b3f"
   },
   "outputs": [],
   "source": [
    "X=data.drop('label', axis=1)"
   ]
  },
  {
   "cell_type": "code",
   "execution_count": 271,
   "metadata": {
    "colab": {
     "base_uri": "https://localhost:8080/",
     "height": 412
    },
    "id": "l8OOaDKk7qbx",
    "outputId": "b9b337ed-3e77-4395-e2c4-baaaeefd195b"
   },
   "outputs": [
    {
     "data": {
      "text/html": [
       "<div>\n",
       "<style scoped>\n",
       "    .dataframe tbody tr th:only-of-type {\n",
       "        vertical-align: middle;\n",
       "    }\n",
       "\n",
       "    .dataframe tbody tr th {\n",
       "        vertical-align: top;\n",
       "    }\n",
       "\n",
       "    .dataframe thead th {\n",
       "        text-align: right;\n",
       "    }\n",
       "</style>\n",
       "<table border=\"1\" class=\"dataframe\">\n",
       "  <thead>\n",
       "    <tr style=\"text-align: right;\">\n",
       "      <th></th>\n",
       "      <th>f1</th>\n",
       "      <th>f2</th>\n",
       "    </tr>\n",
       "  </thead>\n",
       "  <tbody>\n",
       "    <tr>\n",
       "      <th>0</th>\n",
       "      <td>0.450564</td>\n",
       "      <td>1.074305</td>\n",
       "    </tr>\n",
       "    <tr>\n",
       "      <th>1</th>\n",
       "      <td>0.085632</td>\n",
       "      <td>0.967682</td>\n",
       "    </tr>\n",
       "    <tr>\n",
       "      <th>2</th>\n",
       "      <td>0.117326</td>\n",
       "      <td>0.971521</td>\n",
       "    </tr>\n",
       "    <tr>\n",
       "      <th>3</th>\n",
       "      <td>0.982179</td>\n",
       "      <td>-0.380408</td>\n",
       "    </tr>\n",
       "    <tr>\n",
       "      <th>4</th>\n",
       "      <td>-0.720352</td>\n",
       "      <td>0.955850</td>\n",
       "    </tr>\n",
       "    <tr>\n",
       "      <th>...</th>\n",
       "      <td>...</td>\n",
       "      <td>...</td>\n",
       "    </tr>\n",
       "    <tr>\n",
       "      <th>19995</th>\n",
       "      <td>-0.491252</td>\n",
       "      <td>-0.561558</td>\n",
       "    </tr>\n",
       "    <tr>\n",
       "      <th>19996</th>\n",
       "      <td>-0.813124</td>\n",
       "      <td>0.049423</td>\n",
       "    </tr>\n",
       "    <tr>\n",
       "      <th>19997</th>\n",
       "      <td>-0.010594</td>\n",
       "      <td>0.138790</td>\n",
       "    </tr>\n",
       "    <tr>\n",
       "      <th>19998</th>\n",
       "      <td>0.671827</td>\n",
       "      <td>0.804306</td>\n",
       "    </tr>\n",
       "    <tr>\n",
       "      <th>19999</th>\n",
       "      <td>-0.854865</td>\n",
       "      <td>-0.588826</td>\n",
       "    </tr>\n",
       "  </tbody>\n",
       "</table>\n",
       "<p>20000 rows × 2 columns</p>\n",
       "</div>"
      ],
      "text/plain": [
       "             f1        f2\n",
       "0      0.450564  1.074305\n",
       "1      0.085632  0.967682\n",
       "2      0.117326  0.971521\n",
       "3      0.982179 -0.380408\n",
       "4     -0.720352  0.955850\n",
       "...         ...       ...\n",
       "19995 -0.491252 -0.561558\n",
       "19996 -0.813124  0.049423\n",
       "19997 -0.010594  0.138790\n",
       "19998  0.671827  0.804306\n",
       "19999 -0.854865 -0.588826\n",
       "\n",
       "[20000 rows x 2 columns]"
      ]
     },
     "execution_count": 271,
     "metadata": {},
     "output_type": "execute_result"
    }
   ],
   "source": [
    "X"
   ]
  },
  {
   "cell_type": "markdown",
   "metadata": {},
   "source": [
    "# Split the data into train test"
   ]
  },
  {
   "cell_type": "code",
   "execution_count": 272,
   "metadata": {
    "id": "NalHNQsQj7Rl"
   },
   "outputs": [],
   "source": [
    "X_train, X_test, y_train, y_test = train_test_split(X, y,test_size=0.33, stratify=y)"
   ]
  },
  {
   "cell_type": "code",
   "execution_count": 273,
   "metadata": {
    "colab": {
     "base_uri": "https://localhost:8080/"
    },
    "id": "4NGVNxesj7Ol",
    "outputId": "f63e5b6c-40a1-4ce7-c56f-004f2b0dc69e"
   },
   "outputs": [
    {
     "data": {
      "text/plain": [
       "((13400, 2), (6600, 2), (13400,), (6600,))"
      ]
     },
     "execution_count": 273,
     "metadata": {},
     "output_type": "execute_result"
    }
   ],
   "source": [
    "X_train.shape, X_test.shape, y_train.shape, y_test.shape"
   ]
  },
  {
   "cell_type": "code",
   "execution_count": 274,
   "metadata": {
    "colab": {
     "base_uri": "https://localhost:8080/"
    },
    "id": "ADGhkB5jj7Lp",
    "outputId": "ef4fe482-f0c5-4271-e777-33ec5143f05c"
   },
   "outputs": [
    {
     "data": {
      "text/plain": [
       "2"
      ]
     },
     "execution_count": 274,
     "metadata": {},
     "output_type": "execute_result"
    }
   ],
   "source": [
    "X_train.shape[1]"
   ]
  },
  {
   "cell_type": "code",
   "execution_count": 275,
   "metadata": {
    "colab": {
     "base_uri": "https://localhost:8080/"
    },
    "id": "L3w7vCHRMc1r",
    "outputId": "cd2ddadc-2a6f-470f-81b1-9f492bc4610b"
   },
   "outputs": [
    {
     "data": {
      "text/plain": [
       "(13400,)"
      ]
     },
     "execution_count": 275,
     "metadata": {},
     "output_type": "execute_result"
    }
   ],
   "source": [
    "y_train.shape"
   ]
  },
  {
   "cell_type": "code",
   "execution_count": 276,
   "metadata": {
    "id": "KbpY6_Emj7F8"
   },
   "outputs": [],
   "source": [
    "#https://www.w3schools.com/python/python_inheritance.asp\n",
    "#roc_callback funtion\n",
    "\n",
    "class roc_callback(Callback):\n",
    "    def __init__(self,train_data,test_data):\n",
    "        self.x_train = train_data[0]\n",
    "        self.y_train_ = train_data[1]\n",
    "        self.x_test = test_data[0]\n",
    "        self.y_test_ = test_data[1]\n",
    "\n",
    "    def on_epoch_end(self, epoch, logs={}):                             #after the end of epoch values\n",
    "        y_train_predicted = self.model.predict(self.x_train)              #y_i^'s for train data\n",
    "        roc_train = roc_auc_score(self.y_train_, y_train_predicted)\n",
    "        y_test_predicted = self.model.predict(self.x_test)               #y_i^'s for test data'\n",
    "        roc_test = roc_auc_score(self.y_test_, y_test_predicted)\n",
    "        print('\\rroc-auc_train: %s - roc-auc_val: %s' % (str(round(roc_train,4)),str(round(roc_test,4))),end=100*' '+'\\n')\n",
    "        return\n",
    "\n",
    "roc = roc_callback(train_data=(X_train, y_train),\n",
    "test_data=(X_test, y_test))"
   ]
  },
  {
   "cell_type": "code",
   "execution_count": 277,
   "metadata": {
    "id": "BZJkL6Wwj7DY"
   },
   "outputs": [],
   "source": [
    "def change_in_learning_rate(epoch):\n",
    "    '''This function returns the reduced learning rate'''  \n",
    "    initial_learning_rate=0.1\n",
    "    changed_learning_rate=initial_learning_rate*(1-0.1)**epoch\n",
    "    return changed_learning_rate"
   ]
  },
  {
   "cell_type": "code",
   "execution_count": 278,
   "metadata": {
    "colab": {
     "base_uri": "https://localhost:8080/"
    },
    "id": "5hIpK1YQj7Af",
    "outputId": "8bceeacb-2e8a-4f1a-cf9d-774b646db07a"
   },
   "outputs": [
    {
     "data": {
      "text/plain": [
       "0.05904900000000001"
      ]
     },
     "execution_count": 278,
     "metadata": {},
     "output_type": "execute_result"
    }
   ],
   "source": [
    "change_in_learning_rate(5)"
   ]
  },
  {
   "cell_type": "code",
   "execution_count": 279,
   "metadata": {
    "colab": {
     "base_uri": "https://localhost:8080/"
    },
    "id": "zO4vmdAMj6-L",
    "outputId": "b4dc5236-d9a6-426d-fcdb-8b516a41d9f4"
   },
   "outputs": [
    {
     "data": {
      "text/plain": [
       "0.000515377520732012"
      ]
     },
     "execution_count": 279,
     "metadata": {},
     "output_type": "execute_result"
    }
   ],
   "source": [
    "change_in_learning_rate(50)"
   ]
  },
  {
   "cell_type": "code",
   "execution_count": 295,
   "metadata": {
    "id": "oVfiwVpoj665"
   },
   "outputs": [],
   "source": [
    "#https://www.tensorflow.org/api_docs/python/tf/keras/layers/Dense\n",
    "#https://www.tensorflow.org/api_docs/python/tf/keras/initializers/RandomUniform\n",
    "\n",
    "def create_model():\n",
    "    '''This function returns the created model where function calll happned'''\n",
    "    return Sequential([\n",
    "                     Dense(2, input_shape=(2,), kernel_initializer=RandomUniform(minval=-0.05, maxval=0.05, seed=None), name='input_layer'),\n",
    "                     Dense(512, activation='tanh', kernel_initializer=RandomUniform(minval=-0.05, maxval=0.05, seed=None), name='layer1'),\n",
    "                     Dense(256, activation='tanh', kernel_initializer=RandomUniform(minval=-0.05, maxval=0.05, seed=None), name='layer2'),\n",
    "                     Dense(128, activation='tanh', kernel_initializer=RandomUniform(minval=-0.05, maxval=0.05, seed=None), name='layer3'),\n",
    "                     Dense(256, activation='tanh', kernel_initializer=RandomUniform(minval=-0.05, maxval=0.05, seed=None), name='layer4'),\n",
    "                     Dense(512, activation='tanh', kernel_initializer=RandomUniform(minval=-0.05, maxval=0.05, seed=None), name='layer5'),\n",
    "                     Dense(1, activation='sigmoid', name='output_layer'),])"
   ]
  },
  {
   "cell_type": "code",
   "execution_count": 281,
   "metadata": {
    "id": "lzwLJLX9j64F"
   },
   "outputs": [],
   "source": [
    "#stop the process if any NaN values occurs\n",
    "\n",
    "class terminate_NaN(Callback):\n",
    "    def epoch_end(self, epoch, logs={}):\n",
    "        loss=logs.get('loss')\n",
    "        if loss is not None:\n",
    "            if np.isnan(loss) or np.isinf(loss):\n",
    "            print(\"Invalid loss and Process terminate at epoch {}\".format(epoch))\n",
    "            self.model.stop_training=True"
   ]
  },
  {
   "cell_type": "code",
   "execution_count": 282,
   "metadata": {
    "id": "QSmg_fmRj61V"
   },
   "outputs": [],
   "source": [
    "test_data=(X_test, y_test)\n",
    "train_data=(X_train, y_train)"
   ]
  },
  {
   "cell_type": "code",
   "execution_count": 283,
   "metadata": {
    "colab": {
     "base_uri": "https://localhost:8080/"
    },
    "id": "BgUW-e8Nj6yp",
    "outputId": "c1465a98-7f52-42f0-faa3-6cfbd3c7dd62"
   },
   "outputs": [
    {
     "data": {
      "text/plain": [
       "(             f1        f2\n",
       " 2645  -0.692666 -0.527750\n",
       " 3595   0.063350  0.853141\n",
       " 1930  -0.901121 -0.266501\n",
       " 8443   0.206574  0.675552\n",
       " 6313  -0.215944  0.885498\n",
       " ...         ...       ...\n",
       " 14518  1.077503  0.048011\n",
       " 9117   1.264921 -0.013589\n",
       " 12833 -0.087891 -0.990886\n",
       " 4586   0.460298  0.931480\n",
       " 8990   1.026567 -0.666641\n",
       " \n",
       " [6600 rows x 2 columns], array([1., 1., 1., ..., 0., 0., 0.]))"
      ]
     },
     "execution_count": 283,
     "metadata": {},
     "output_type": "execute_result"
    }
   ],
   "source": [
    "test_data"
   ]
  },
  {
   "cell_type": "code",
   "execution_count": 284,
   "metadata": {
    "colab": {
     "base_uri": "https://localhost:8080/"
    },
    "id": "u6PBi1I2j6v5",
    "outputId": "4a50d23e-2481-42a0-a608-268e5f927c8e"
   },
   "outputs": [
    {
     "data": {
      "text/plain": [
       "(             f1        f2\n",
       " 18537  0.331026  0.503821\n",
       " 12051 -0.692862 -0.887757\n",
       " 3635   0.176662  0.652672\n",
       " 6895   1.080582  0.132655\n",
       " 113   -1.170275  0.477978\n",
       " ...         ...       ...\n",
       " 314    0.581259  0.828587\n",
       " 9468   0.902993  0.341664\n",
       " 7094  -0.153314  0.940698\n",
       " 15570  0.614579  0.358764\n",
       " 3991  -0.486305 -0.382064\n",
       " \n",
       " [13400 rows x 2 columns], array([1., 0., 1., ..., 1., 1., 1.]))"
      ]
     },
     "execution_count": 284,
     "metadata": {},
     "output_type": "execute_result"
    }
   ],
   "source": [
    "train_data"
   ]
  },
  {
   "cell_type": "code",
   "execution_count": 285,
   "metadata": {
    "id": "cz9YyROij6s7"
   },
   "outputs": [],
   "source": [
    "#import required librarires\n",
    "from sklearn.metrics import roc_auc_score\n",
    "\n",
    "#this class is used to return the f1 score, precision and recall\n",
    "class metrics(Callback):\n",
    "    def on_train_begin(self, logs={}):\n",
    "        self.value_f1_score = []                    #to store f1 score\n",
    "        self.value_recalls = []                     #to store recall \n",
    "        self.value_precisions = []                  #to store precision\n",
    "    def on_epoch_end(self, epoch, logs={}):\n",
    "        val_predict = (np.asarray(self.model.predict(X_test))).round()     #to get in numpy array \n",
    "        val_targ = y_test\n",
    "        val_f1 = f1_score(val_targ, val_predict)                           #to get f1 score\n",
    "        val_recall = recall_score(val_targ, val_predict)                   #to get recall\n",
    "        val_precision = precision_score(val_targ, val_predict)             #to get precission\n",
    "        self.value_f1_score.append(val_f1)\n",
    "        self.value_recalls.append(val_recall)\n",
    "        self.value_precisions.append(val_precision)\n",
    "        print ( \"- f1 score %f - precision %f - recall %f\" %(val_f1, val_precision, val_recall))\n",
    "        return\n",
    "\n",
    "metrics_f1_score=metrics()"
   ]
  },
  {
   "cell_type": "code",
   "execution_count": 286,
   "metadata": {
    "colab": {
     "base_uri": "https://localhost:8080/"
    },
    "id": "ic0hSbKKj6qG",
    "outputId": "39d401bc-f620-45f6-cabd-5b96e4456d5a"
   },
   "outputs": [
    {
     "data": {
      "text/plain": [
       "<__main__.metrics at 0x7ff88b2868d0>"
      ]
     },
     "execution_count": 286,
     "metadata": {},
     "output_type": "execute_result"
    }
   ],
   "source": [
    "metrics_f1_score"
   ]
  },
  {
   "cell_type": "markdown",
   "metadata": {
    "id": "ATaWQ3oVzmq6"
   },
   "source": [
    "## **Model 1**"
   ]
  },
  {
   "cell_type": "code",
   "execution_count": 312,
   "metadata": {
    "colab": {
     "base_uri": "https://localhost:8080/"
    },
    "id": "vvf5H7Swj6nb",
    "outputId": "ed111135-f126-4f62-a80b-bfddc90b5195"
   },
   "outputs": [
    {
     "name": "stdout",
     "output_type": "stream",
     "text": [
      "WARNING:tensorflow:`write_grads` will be ignored in TensorFlow 2.0 for the `TensorBoard` Callback.\n",
      "Epoch 1/15\n",
      "  3/419 [..............................] - ETA: 17s - loss: 0.6929 - accuracy: 0.5104 WARNING:tensorflow:Callback method `on_train_batch_end` is slow compared to the batch time (batch time: 0.0073s vs `on_train_batch_end` time: 0.0121s). Check your callbacks.\n",
      "419/419 [==============================] - 4s 9ms/step - loss: 0.6942 - accuracy: 0.4979 - val_loss: 0.6936 - val_accuracy: 0.5000\n",
      "\n",
      "Epoch 00001: val_accuracy improved from -inf to 0.50000, saving model to model_save/weights-01-0.5000.hdf5\n"
     ]
    },
    {
     "name": "stderr",
     "output_type": "stream",
     "text": [
      "/usr/local/lib/python3.7/dist-packages/sklearn/metrics/_classification.py:1272: UndefinedMetricWarning: Precision is ill-defined and being set to 0.0 due to no predicted samples. Use `zero_division` parameter to control this behavior.\n",
      "  _warn_prf(average, modifier, msg_start, len(result))\n"
     ]
    },
    {
     "name": "stdout",
     "output_type": "stream",
     "text": [
      "- f1 score 0.000000 - precision 0.000000 - recall 0.000000\n",
      "roc-auc_train: 0.4994 - roc-auc_val: 0.4969                                                                                                    \n",
      "Epoch 2/15\n",
      "419/419 [==============================] - 3s 8ms/step - loss: 0.6941 - accuracy: 0.5036 - val_loss: 0.6942 - val_accuracy: 0.5000\n",
      "\n",
      "Epoch 00002: val_accuracy did not improve from 0.50000\n",
      "\n",
      "Epoch 00002: ReduceLROnPlateau reducing learning rate to 0.008999999798834325.\n",
      "- f1 score 0.666667 - precision 0.500000 - recall 1.000000\n",
      "roc-auc_train: 0.4994 - roc-auc_val: 0.4968                                                                                                    \n",
      "Epoch 3/15\n",
      "419/419 [==============================] - 4s 8ms/step - loss: 0.6939 - accuracy: 0.5000 - val_loss: 0.6934 - val_accuracy: 0.5000\n",
      "\n",
      "Epoch 00003: val_accuracy did not improve from 0.50000\n",
      "\n",
      "Epoch 00003: ReduceLROnPlateau reducing learning rate to 0.008099999651312828.\n",
      "- f1 score 0.666667 - precision 0.500000 - recall 1.000000\n",
      "roc-auc_train: 0.4994 - roc-auc_val: 0.4968                                                                                                    \n",
      "Epoch 00003: early stopping\n"
     ]
    },
    {
     "data": {
      "text/plain": [
       "<keras.callbacks.History at 0x7ff9b0a21e10>"
      ]
     },
     "execution_count": 312,
     "metadata": {},
     "output_type": "execute_result"
    }
   ],
   "source": [
    "#https://www.tensorflow.org/api_docs/python/tf/keras/optimizers/SGD\n",
    "#https://www.tensorflow.org/api_docs/python/tf/keras/Model\n",
    "#https://www.tensorflow.org/api_docs/python/tf/keras/callbacks/ReduceLROnPlateau\n",
    "#https://www.tensorflow.org/api_docs/python/tf/keras/callbacks/ModelCheckpoint\n",
    "#https://www.tensorflow.org/api_docs/python/tf/keras/callbacks/EarlyStopping\n",
    "\n",
    "#Model1\n",
    "\n",
    "model_no1=create_model()\n",
    "optimizer=SGD(learning_rate=0.01, momentum=0.9, nesterov=False, name=\"SGD\")\n",
    "model_no1.compile(optimizer=optimizer, loss='binary_crossentropy', metrics=['accuracy'])\n",
    "\n",
    "# log_directory=\"logs/fit/\"+datetime.datetime.now().strftime(\"%Y%m%d-%H%M%S\")\n",
    "# tensorboard_callback=TensorBoard(log_dir=log_directory, histogram_freq=1, write_graph=True)\n",
    "\n",
    "log_dir=\"logs/fit/\" + datetime.datetime.now().strftime(\"%Y%m%d-%H%M%S\")\n",
    "tensorboard_callback = tf.keras.callbacks.TensorBoard(log_dir=log_dir,histogram_freq=1, write_graph=True,write_grads=True)\n",
    "\n",
    "terminate_nan=terminate_NaN()\n",
    "file_path=\"model_save/weights-{epoch:02d}-{val_accuracy:.4f}.hdf5\"\n",
    "\n",
    "check_point=ModelCheckpoint(filepath=file_path, monitor='val_accuracy', verbose=1, save_best_only=True, mode='max')\n",
    "early_stop=EarlyStopping(monitor='val_accuracy', patience=2, verbose=1, mode='max')\n",
    "reduce_accuracy=ReduceLROnPlateau(monitor='val_accuracy', factor=0.9, patience=1, verbose=1, mode='auto')\n",
    "reduce_lr_for_3epoch=ReduceLROnPlateau(factor=0.9, patience=3, verbose=1)\n",
    "\n",
    "callbacks_list=[check_point, tensorboard_callback, early_stop, reduce_accuracy, reduce_lr_for_3epoch, terminate_nan, metrics_f1_score, roc]\n",
    "\n",
    "model_no1.fit(x=X_train,\n",
    "              y=y_train,\n",
    "              epochs=15,\n",
    "              validation_data=(X_test, y_test),\n",
    "              callbacks=[callbacks_list])"
   ]
  },
  {
   "cell_type": "code",
   "execution_count": 297,
   "metadata": {
    "colab": {
     "base_uri": "https://localhost:8080/"
    },
    "id": "oV_LE--jkT5F",
    "outputId": "434d1d09-87bd-4735-ad68-51a2ff4fc962"
   },
   "outputs": [
    {
     "name": "stdout",
     "output_type": "stream",
     "text": [
      "Model: \"sequential_47\"\n",
      "_________________________________________________________________\n",
      "Layer (type)                 Output Shape              Param #   \n",
      "=================================================================\n",
      "input_layer (Dense)          (None, 2)                 6         \n",
      "_________________________________________________________________\n",
      "layer1 (Dense)               (None, 512)               1536      \n",
      "_________________________________________________________________\n",
      "layer2 (Dense)               (None, 256)               131328    \n",
      "_________________________________________________________________\n",
      "layer3 (Dense)               (None, 128)               32896     \n",
      "_________________________________________________________________\n",
      "layer4 (Dense)               (None, 256)               33024     \n",
      "_________________________________________________________________\n",
      "layer5 (Dense)               (None, 512)               131584    \n",
      "_________________________________________________________________\n",
      "output_layer (Dense)         (None, 1)                 513       \n",
      "=================================================================\n",
      "Total params: 330,887\n",
      "Trainable params: 330,887\n",
      "Non-trainable params: 0\n",
      "_________________________________________________________________\n"
     ]
    }
   ],
   "source": [
    "model_no1.summary()"
   ]
  },
  {
   "cell_type": "code",
   "execution_count": null,
   "metadata": {},
   "outputs": [],
   "source": [
    "%reload_ext tensorboard"
   ]
  },
  {
   "cell_type": "code",
   "execution_count": null,
   "metadata": {},
   "outputs": [],
   "source": [
    "!rm -rf ./logs/"
   ]
  },
  {
   "cell_type": "code",
   "execution_count": null,
   "metadata": {},
   "outputs": [],
   "source": [
    "%tensorboard --logdir='logs/fit'"
   ]
  },
  {
   "cell_type": "markdown",
   "metadata": {
    "id": "X4L4-KcAzpsA"
   },
   "source": [
    "# Model 2"
   ]
  },
  {
   "cell_type": "code",
   "execution_count": 314,
   "metadata": {
    "id": "3m8pzvUWzu93"
   },
   "outputs": [],
   "source": [
    "def create_model():\n",
    "    '''This function returns the created model where function calll happned'''\n",
    "    return Sequential([\n",
    "                     Dense(2, input_shape=(2,), kernel_initializer=RandomUniform(minval=-0.05, maxval=0.05, seed=None), name='input_layer'),\n",
    "                     Dense(512, activation='relu', kernel_initializer=RandomUniform(minval=-0.05, maxval=0.05, seed=None), name='layer1'),\n",
    "                     Dense(256, activation='relu', kernel_initializer=RandomUniform(minval=-0.05, maxval=0.05, seed=None), name='layer2'),\n",
    "                     Dense(128, activation='relu', kernel_initializer=RandomUniform(minval=-0.05, maxval=0.05, seed=None), name='layer3'),\n",
    "                     Dense(256, activation='relu', kernel_initializer=RandomUniform(minval=-0.05, maxval=0.05, seed=None), name='layer4'),\n",
    "                     Dense(512, activation='relu', kernel_initializer=RandomUniform(minval=-0.05, maxval=0.05, seed=None), name='layer5'),\n",
    "                     Dense(1, activation='sigmoid', name='output_layer'),])"
   ]
  },
  {
   "cell_type": "markdown",
   "metadata": {
    "id": "U-of22jP2Kc-"
   },
   "source": []
  },
  {
   "cell_type": "code",
   "execution_count": 315,
   "metadata": {
    "colab": {
     "base_uri": "https://localhost:8080/"
    },
    "id": "0X3TeJv9vLBb",
    "outputId": "2229c835-145e-4564-8476-d4de858fb641"
   },
   "outputs": [
    {
     "name": "stdout",
     "output_type": "stream",
     "text": [
      "WARNING:tensorflow:`write_grads` will be ignored in TensorFlow 2.0 for the `TensorBoard` Callback.\n",
      "Epoch 1/15\n",
      "  3/419 [..............................] - ETA: 17s - loss: 0.6932 - accuracy: 0.4479 WARNING:tensorflow:Callback method `on_train_batch_end` is slow compared to the batch time (batch time: 0.0067s vs `on_train_batch_end` time: 0.0123s). Check your callbacks.\n",
      "419/419 [==============================] - 4s 9ms/step - loss: 0.6931 - accuracy: 0.5077 - val_loss: 0.6932 - val_accuracy: 0.5000\n",
      "\n",
      "Epoch 00001: val_accuracy improved from -inf to 0.50000, saving model to model_save/weights-01-0.5000.hdf5\n"
     ]
    },
    {
     "name": "stderr",
     "output_type": "stream",
     "text": [
      "/usr/local/lib/python3.7/dist-packages/sklearn/metrics/_classification.py:1272: UndefinedMetricWarning: Precision is ill-defined and being set to 0.0 due to no predicted samples. Use `zero_division` parameter to control this behavior.\n",
      "  _warn_prf(average, modifier, msg_start, len(result))\n"
     ]
    },
    {
     "name": "stdout",
     "output_type": "stream",
     "text": [
      "- f1 score 0.000000 - precision 0.000000 - recall 0.000000\n",
      "roc-auc_train: 0.4512 - roc-auc_val: 0.4344                                                                                                    \n",
      "Epoch 2/15\n",
      "419/419 [==============================] - 3s 8ms/step - loss: 0.6934 - accuracy: 0.4973 - val_loss: 0.6932 - val_accuracy: 0.5000\n",
      "\n",
      "Epoch 00002: val_accuracy did not improve from 0.50000\n",
      "\n",
      "Epoch 00002: ReduceLROnPlateau reducing learning rate to 0.008999999798834325.\n"
     ]
    },
    {
     "name": "stderr",
     "output_type": "stream",
     "text": [
      "/usr/local/lib/python3.7/dist-packages/sklearn/metrics/_classification.py:1272: UndefinedMetricWarning: Precision is ill-defined and being set to 0.0 due to no predicted samples. Use `zero_division` parameter to control this behavior.\n",
      "  _warn_prf(average, modifier, msg_start, len(result))\n"
     ]
    },
    {
     "name": "stdout",
     "output_type": "stream",
     "text": [
      "- f1 score 0.000000 - precision 0.000000 - recall 0.000000\n",
      "roc-auc_train: 0.5022 - roc-auc_val: 0.5024                                                                                                    \n",
      "Epoch 3/15\n",
      "419/419 [==============================] - 3s 8ms/step - loss: 0.6934 - accuracy: 0.4930 - val_loss: 0.6932 - val_accuracy: 0.5000\n",
      "\n",
      "Epoch 00003: val_accuracy did not improve from 0.50000\n",
      "\n",
      "Epoch 00003: ReduceLROnPlateau reducing learning rate to 0.008099999651312828.\n"
     ]
    },
    {
     "name": "stderr",
     "output_type": "stream",
     "text": [
      "/usr/local/lib/python3.7/dist-packages/sklearn/metrics/_classification.py:1272: UndefinedMetricWarning: Precision is ill-defined and being set to 0.0 due to no predicted samples. Use `zero_division` parameter to control this behavior.\n",
      "  _warn_prf(average, modifier, msg_start, len(result))\n"
     ]
    },
    {
     "name": "stdout",
     "output_type": "stream",
     "text": [
      "- f1 score 0.000000 - precision 0.000000 - recall 0.000000\n",
      "roc-auc_train: 0.5 - roc-auc_val: 0.5                                                                                                    \n",
      "Epoch 00003: early stopping\n"
     ]
    },
    {
     "data": {
      "text/plain": [
       "<keras.callbacks.History at 0x7ff9b0792c50>"
      ]
     },
     "execution_count": 315,
     "metadata": {},
     "output_type": "execute_result"
    }
   ],
   "source": [
    "#https://www.tensorflow.org/api_docs/python/tf/keras/optimizers/SGD\n",
    "#https://www.tensorflow.org/api_docs/python/tf/keras/Model\n",
    "#https://www.tensorflow.org/api_docs/python/tf/keras/callbacks/ReduceLROnPlateau\n",
    "#https://www.tensorflow.org/api_docs/python/tf/keras/callbacks/ModelCheckpoint\n",
    "#https://www.tensorflow.org/api_docs/python/tf/keras/callbacks/EarlyStopping\n",
    "\n",
    "\n",
    "#Model2\n",
    "\n",
    "model_no2=create_model()\n",
    "optimizer=SGD(learning_rate=0.01, momentum=0.9, nesterov=False, name=\"SGD\")\n",
    "model_no2.compile(optimizer=optimizer, loss='binary_crossentropy', metrics=['accuracy'])\n",
    "\n",
    "# log_directory=\"logs/fit/\"+datetime.datetime.now().strftime(\"%Y%m%d-%H%M%S\")\n",
    "# tensorboard_callback=TensorBoard(log_dir=log_directory, histogram_freq=1, write_graph=True)\n",
    "\n",
    "log_dir=\"logs/fit/\" + datetime.datetime.now().strftime(\"%Y%m%d-%H%M%S\")\n",
    "tensorboard_callback = tf.keras.callbacks.TensorBoard(log_dir=log_dir,histogram_freq=1, write_graph=True,write_grads=True)\n",
    "\n",
    "terminate_nan=terminate_NaN()\n",
    "file_path=\"model_save/weights-{epoch:02d}-{val_accuracy:.4f}.hdf5\"\n",
    "\n",
    "check_point=ModelCheckpoint(filepath=file_path, monitor='val_accuracy', verbose=1, save_best_only=True, mode='max')\n",
    "early_stop=EarlyStopping(monitor='val_accuracy', patience=2, verbose=1, mode='max')\n",
    "reduce_accuracy=ReduceLROnPlateau(monitor='val_accuracy', factor=0.9, patience=1, verbose=1, mode='auto')\n",
    "reduce_lr_for_3epoch=ReduceLROnPlateau(factor=0.9, patience=3, verbose=1)\n",
    "\n",
    "callbacks_list=[check_point, tensorboard_callback, early_stop, reduce_accuracy, reduce_lr_for_3epoch, terminate_nan, metrics_f1_score, roc]\n",
    "\n",
    "model_no2.fit(x=X_train,\n",
    "              y=y_train,\n",
    "              epochs=15,\n",
    "              validation_data=(X_test, y_test),\n",
    "              callbacks=[callbacks_list])"
   ]
  },
  {
   "cell_type": "code",
   "execution_count": 316,
   "metadata": {
    "colab": {
     "base_uri": "https://localhost:8080/"
    },
    "id": "EkIIpLO6vLET",
    "outputId": "38428b65-e6ae-4f59-e3ca-b1f964e95b91"
   },
   "outputs": [
    {
     "name": "stdout",
     "output_type": "stream",
     "text": [
      "Model: \"sequential_50\"\n",
      "_________________________________________________________________\n",
      "Layer (type)                 Output Shape              Param #   \n",
      "=================================================================\n",
      "input_layer (Dense)          (None, 2)                 6         \n",
      "_________________________________________________________________\n",
      "layer1 (Dense)               (None, 512)               1536      \n",
      "_________________________________________________________________\n",
      "layer2 (Dense)               (None, 256)               131328    \n",
      "_________________________________________________________________\n",
      "layer3 (Dense)               (None, 128)               32896     \n",
      "_________________________________________________________________\n",
      "layer4 (Dense)               (None, 256)               33024     \n",
      "_________________________________________________________________\n",
      "layer5 (Dense)               (None, 512)               131584    \n",
      "_________________________________________________________________\n",
      "output_layer (Dense)         (None, 1)                 513       \n",
      "=================================================================\n",
      "Total params: 330,887\n",
      "Trainable params: 330,887\n",
      "Non-trainable params: 0\n",
      "_________________________________________________________________\n"
     ]
    }
   ],
   "source": [
    "model_no2.summary()\n"
   ]
  },
  {
   "cell_type": "code",
   "execution_count": null,
   "metadata": {},
   "outputs": [],
   "source": [
    "%reload_ext tensorboard\n",
    "\n",
    "%tensorboard --logdir='/content/logs/fit/20210921-100537'"
   ]
  },
  {
   "cell_type": "markdown",
   "metadata": {
    "id": "oLv1zF3q2Ml-"
   },
   "source": [
    "# Model 3"
   ]
  },
  {
   "cell_type": "code",
   "execution_count": 323,
   "metadata": {
    "id": "2RbHEfb3vLRw"
   },
   "outputs": [],
   "source": [
    "def create_model():\n",
    "  '''This function returns the created model where function calll happned'''\n",
    "  return Sequential([\n",
    "                     Dense(2, input_shape=(2,), kernel_initializer=HeUniform(), name='input_layer'),\n",
    "                     Dense(512, activation='relu', kernel_initializer=HeUniform(), name='layer1'),\n",
    "                     Dense(256, activation='relu', kernel_initializer=HeUniform(), name='layer2'),\n",
    "                     Dense(128, activation='relu', kernel_initializer=HeUniform(), name='layer3'),\n",
    "                     Dense(256, activation='relu', kernel_initializer=HeUniform(), name='layer4'),\n",
    "                     Dense(512, activation='relu', kernel_initializer=HeUniform(), name='layer5'),\n",
    "                     Dense(1, activation='sigmoid', name='output_layer'),\n",
    "  ])"
   ]
  },
  {
   "cell_type": "code",
   "execution_count": 324,
   "metadata": {
    "colab": {
     "base_uri": "https://localhost:8080/"
    },
    "id": "7YGIgGwHvLU1",
    "outputId": "e85e4c39-7d58-4cb0-b177-2ca565853703"
   },
   "outputs": [
    {
     "name": "stdout",
     "output_type": "stream",
     "text": [
      "WARNING:tensorflow:`write_grads` will be ignored in TensorFlow 2.0 for the `TensorBoard` Callback.\n",
      "Epoch 1/15\n",
      "  3/419 [..............................] - ETA: 18s - loss: 0.7498 - accuracy: 0.5729 WARNING:tensorflow:Callback method `on_train_batch_end` is slow compared to the batch time (batch time: 0.0076s vs `on_train_batch_end` time: 0.0124s). Check your callbacks.\n",
      "419/419 [==============================] - 4s 9ms/step - loss: 0.6772 - accuracy: 0.5843 - val_loss: 0.6360 - val_accuracy: 0.6530\n",
      "\n",
      "Epoch 00001: val_accuracy improved from -inf to 0.65303, saving model to model_save/weights-01-0.6530.hdf5\n",
      "- f1 score 0.656980 - precision 0.649585 - recall 0.664545\n",
      "roc-auc_train: 0.7097 - roc-auc_val: 0.7074                                                                                                    \n",
      "Epoch 2/15\n",
      "419/419 [==============================] - 3s 8ms/step - loss: 0.6395 - accuracy: 0.6331 - val_loss: 0.6255 - val_accuracy: 0.6483\n",
      "\n",
      "Epoch 00002: val_accuracy did not improve from 0.65303\n",
      "\n",
      "Epoch 00002: ReduceLROnPlateau reducing learning rate to 0.008999999798834325.\n",
      "- f1 score 0.614131 - precision 0.680295 - recall 0.559697\n",
      "roc-auc_train: 0.7185 - roc-auc_val: 0.7138                                                                                                    \n",
      "Epoch 3/15\n",
      "419/419 [==============================] - 3s 8ms/step - loss: 0.6307 - accuracy: 0.6463 - val_loss: 0.6246 - val_accuracy: 0.6497\n",
      "\n",
      "Epoch 00003: val_accuracy did not improve from 0.65303\n",
      "\n",
      "Epoch 00003: ReduceLROnPlateau reducing learning rate to 0.008099999651312828.\n",
      "- f1 score 0.626253 - precision 0.671171 - recall 0.586970\n",
      "roc-auc_train: 0.7149 - roc-auc_val: 0.7108                                                                                                    \n",
      "Epoch 00003: early stopping\n"
     ]
    },
    {
     "data": {
      "text/plain": [
       "<keras.callbacks.History at 0x7ff9b055ee10>"
      ]
     },
     "execution_count": 324,
     "metadata": {},
     "output_type": "execute_result"
    }
   ],
   "source": [
    "#https://www.tensorflow.org/api_docs/python/tf/keras/optimizers/SGD\n",
    "#https://www.tensorflow.org/api_docs/python/tf/keras/Model\n",
    "#https://www.tensorflow.org/api_docs/python/tf/keras/callbacks/ReduceLROnPlateau\n",
    "#https://www.tensorflow.org/api_docs/python/tf/keras/callbacks/ModelCheckpoint\n",
    "#https://www.tensorflow.org/api_docs/python/tf/keras/callbacks/EarlyStopping\n",
    "\n",
    "#Model2\n",
    "\n",
    "model_no3=create_model()\n",
    "optimizer=SGD(learning_rate=0.01, momentum=0.9, nesterov=False, name=\"SGD\")\n",
    "model_no3.compile(optimizer=optimizer, loss='binary_crossentropy', metrics=['accuracy'])\n",
    "\n",
    "# log_directory=\"logs/fit/\"+datetime.datetime.now().strftime(\"%Y%m%d-%H%M%S\")\n",
    "# tensorboard_callback=TensorBoard(log_dir=log_directory, histogram_freq=1, write_graph=True)\n",
    "\n",
    "log_dir=\"logs/fit/\" + datetime.datetime.now().strftime(\"%Y%m%d-%H%M%S\")\n",
    "tensorboard_callback = tf.keras.callbacks.TensorBoard(log_dir=log_dir,histogram_freq=1, write_graph=True,write_grads=True)\n",
    "\n",
    "terminate_nan=terminate_NaN()\n",
    "file_path=\"model_save/weights-{epoch:02d}-{val_accuracy:.4f}.hdf5\"\n",
    "\n",
    "check_point=ModelCheckpoint(filepath=file_path, monitor='val_accuracy', verbose=1, save_best_only=True, mode='max')\n",
    "early_stop=EarlyStopping(monitor='val_accuracy', patience=2, verbose=1, mode='max')\n",
    "reduce_accuracy=ReduceLROnPlateau(monitor='val_accuracy', factor=0.9, patience=1, verbose=1, mode='auto')\n",
    "reduce_lr_for_3epoch=ReduceLROnPlateau(factor=0.9, patience=3, verbose=1)\n",
    "\n",
    "callbacks_list=[check_point, tensorboard_callback, early_stop, reduce_accuracy, reduce_lr_for_3epoch, terminate_nan, metrics_f1_score, roc]\n",
    "\n",
    "model_no3.fit(x=X_train,\n",
    "              y=y_train,\n",
    "              epochs=15,\n",
    "              validation_data=(X_test, y_test),\n",
    "              callbacks=[callbacks_list])"
   ]
  },
  {
   "cell_type": "code",
   "execution_count": 325,
   "metadata": {
    "colab": {
     "base_uri": "https://localhost:8080/"
    },
    "id": "GzE5FtXkvLXa",
    "outputId": "75a8ec08-c88d-4b0b-d545-247437a122e2"
   },
   "outputs": [
    {
     "name": "stdout",
     "output_type": "stream",
     "text": [
      "Model: \"sequential_51\"\n",
      "_________________________________________________________________\n",
      "Layer (type)                 Output Shape              Param #   \n",
      "=================================================================\n",
      "input_layer (Dense)          (None, 2)                 6         \n",
      "_________________________________________________________________\n",
      "layer1 (Dense)               (None, 512)               1536      \n",
      "_________________________________________________________________\n",
      "layer2 (Dense)               (None, 256)               131328    \n",
      "_________________________________________________________________\n",
      "layer3 (Dense)               (None, 128)               32896     \n",
      "_________________________________________________________________\n",
      "layer4 (Dense)               (None, 256)               33024     \n",
      "_________________________________________________________________\n",
      "layer5 (Dense)               (None, 512)               131584    \n",
      "_________________________________________________________________\n",
      "output_layer (Dense)         (None, 1)                 513       \n",
      "=================================================================\n",
      "Total params: 330,887\n",
      "Trainable params: 330,887\n",
      "Non-trainable params: 0\n",
      "_________________________________________________________________\n"
     ]
    }
   ],
   "source": [
    "model_no3.summary()"
   ]
  },
  {
   "cell_type": "code",
   "execution_count": null,
   "metadata": {},
   "outputs": [],
   "source": [
    "%reload_ext tensorboard\n",
    "\n",
    "%tensorboard --logdir='/content/logs/fit/20210921-101723'"
   ]
  },
  {
   "cell_type": "markdown",
   "metadata": {
    "id": "kDd2FcoI4Ebk"
   },
   "source": [
    "# Model 4"
   ]
  },
  {
   "cell_type": "code",
   "execution_count": 329,
   "metadata": {
    "id": "eqoFh_D3vLiG"
   },
   "outputs": [],
   "source": [
    "def create_model():\n",
    "  '''This function returns the created model where function calll happned'''\n",
    "  return Sequential([\n",
    "                     Dense(2, input_shape=(2,), kernel_initializer=HeUniform(), name='input_layer'),\n",
    "                     Dense(512, activation='softmax', kernel_initializer=HeUniform(), name='layer1'),\n",
    "                     Dense(256, activation='softmax', kernel_initializer=HeUniform(), name='layer2'),\n",
    "                     Dense(128, activation='softmax', kernel_initializer=HeUniform(), name='layer3'),\n",
    "                     Dense(256, activation='softmax', kernel_initializer=HeUniform(), name='layer4'),\n",
    "                     Dense(512, activation='softmax', kernel_initializer=HeUniform(), name='layer5'),\n",
    "                     Dense(1, activation='softmax', name='output_layer'),\n",
    "  ])"
   ]
  },
  {
   "cell_type": "code",
   "execution_count": 331,
   "metadata": {
    "colab": {
     "base_uri": "https://localhost:8080/"
    },
    "id": "ybd2RDbS4YSZ",
    "outputId": "32a5806d-6962-400c-bbde-cdd420ca13fb"
   },
   "outputs": [
    {
     "name": "stdout",
     "output_type": "stream",
     "text": [
      "WARNING:tensorflow:`write_grads` will be ignored in TensorFlow 2.0 for the `TensorBoard` Callback.\n",
      "Epoch 1/15\n",
      "  3/419 [..............................] - ETA: 21s - loss: 0.6931 - accuracy: 0.4792 WARNING:tensorflow:Callback method `on_train_batch_end` is slow compared to the batch time (batch time: 0.0091s vs `on_train_batch_end` time: 0.0140s). Check your callbacks.\n",
      "419/419 [==============================] - 5s 9ms/step - loss: 0.6934 - accuracy: 0.5000 - val_loss: 0.6934 - val_accuracy: 0.5000\n",
      "\n",
      "Epoch 00001: val_accuracy improved from -inf to 0.50000, saving model to model_save/weights-01-0.5000.hdf5\n",
      "- f1 score 0.666667 - precision 0.500000 - recall 1.000000\n",
      "roc-auc_train: 0.5 - roc-auc_val: 0.5                                                                                                    \n",
      "Epoch 2/15\n",
      "419/419 [==============================] - 4s 9ms/step - loss: 0.6934 - accuracy: 0.5000 - val_loss: 0.6936 - val_accuracy: 0.5000\n",
      "\n",
      "Epoch 00002: val_accuracy did not improve from 0.50000\n",
      "\n",
      "Epoch 00002: ReduceLROnPlateau reducing learning rate to 0.008999999798834325.\n",
      "- f1 score 0.666667 - precision 0.500000 - recall 1.000000\n",
      "roc-auc_train: 0.5 - roc-auc_val: 0.5                                                                                                    \n",
      "Epoch 3/15\n",
      "419/419 [==============================] - 4s 9ms/step - loss: 0.6934 - accuracy: 0.5000 - val_loss: 0.6935 - val_accuracy: 0.5000\n",
      "\n",
      "Epoch 00003: val_accuracy did not improve from 0.50000\n",
      "\n",
      "Epoch 00003: ReduceLROnPlateau reducing learning rate to 0.008099999651312828.\n",
      "- f1 score 0.666667 - precision 0.500000 - recall 1.000000\n",
      "roc-auc_train: 0.5 - roc-auc_val: 0.5                                                                                                    \n",
      "Epoch 00003: early stopping\n"
     ]
    },
    {
     "data": {
      "text/plain": [
       "<keras.callbacks.History at 0x7ff875d12550>"
      ]
     },
     "execution_count": 331,
     "metadata": {},
     "output_type": "execute_result"
    }
   ],
   "source": [
    "#https://www.tensorflow.org/api_docs/python/tf/keras/optimizers/SGD\n",
    "#https://www.tensorflow.org/api_docs/python/tf/keras/Model\n",
    "#https://www.tensorflow.org/api_docs/python/tf/keras/callbacks/ReduceLROnPlateau\n",
    "#https://www.tensorflow.org/api_docs/python/tf/keras/callbacks/ModelCheckpoint\n",
    "#https://www.tensorflow.org/api_docs/python/tf/keras/callbacks/EarlyStopping\n",
    "\n",
    "\n",
    "\n",
    "#Model4\n",
    "\n",
    "model_no4=create_model()\n",
    "optimizer=SGD(learning_rate=0.01, momentum=0.9, nesterov=False, name=\"SGD\")\n",
    "model_no4.compile(optimizer=optimizer, loss='binary_crossentropy', metrics=['accuracy'])\n",
    "\n",
    "# log_directory=\"logs/fit/\"+datetime.datetime.now().strftime(\"%Y%m%d-%H%M%S\")\n",
    "# tensorboard_callback=TensorBoard(log_dir=log_directory, histogram_freq=1, write_graph=True)\n",
    "\n",
    "log_dir=\"logs/fit/\" + datetime.datetime.now().strftime(\"%Y%m%d-%H%M%S\")\n",
    "tensorboard_callback = tf.keras.callbacks.TensorBoard(log_dir=log_dir,histogram_freq=1, write_graph=True,write_grads=True)\n",
    "\n",
    "terminate_nan=terminate_NaN()\n",
    "file_path=\"model_save/weights-{epoch:02d}-{val_accuracy:.4f}.hdf5\"\n",
    "\n",
    "check_point=ModelCheckpoint(filepath=file_path, monitor='val_accuracy', verbose=1, save_best_only=True, mode='max')\n",
    "early_stop=EarlyStopping(monitor='val_accuracy', patience=2, verbose=1, mode='max')\n",
    "reduce_accuracy=ReduceLROnPlateau(monitor='val_accuracy', factor=0.9, patience=1, verbose=1, mode='auto')\n",
    "reduce_lr_for_3epoch=ReduceLROnPlateau(factor=0.9, patience=3, verbose=1)\n",
    "\n",
    "callbacks_list=[check_point, tensorboard_callback, early_stop, reduce_accuracy, reduce_lr_for_3epoch, terminate_nan, metrics_f1_score, roc]\n",
    "\n",
    "model_no4.fit(x=X_train,\n",
    "              y=y_train,\n",
    "              epochs=15,\n",
    "              validation_data=(X_test, y_test),\n",
    "              callbacks=[callbacks_list])"
   ]
  },
  {
   "cell_type": "code",
   "execution_count": 332,
   "metadata": {
    "colab": {
     "base_uri": "https://localhost:8080/"
    },
    "id": "IzaqTbRS5cty",
    "outputId": "2a2051ab-367a-4c1b-f2e8-faa94e78bcc6"
   },
   "outputs": [
    {
     "name": "stdout",
     "output_type": "stream",
     "text": [
      "Model: \"sequential_54\"\n",
      "_________________________________________________________________\n",
      "Layer (type)                 Output Shape              Param #   \n",
      "=================================================================\n",
      "input_layer (Dense)          (None, 2)                 6         \n",
      "_________________________________________________________________\n",
      "layer1 (Dense)               (None, 512)               1536      \n",
      "_________________________________________________________________\n",
      "layer2 (Dense)               (None, 256)               131328    \n",
      "_________________________________________________________________\n",
      "layer3 (Dense)               (None, 128)               32896     \n",
      "_________________________________________________________________\n",
      "layer4 (Dense)               (None, 256)               33024     \n",
      "_________________________________________________________________\n",
      "layer5 (Dense)               (None, 512)               131584    \n",
      "_________________________________________________________________\n",
      "output_layer (Dense)         (None, 1)                 513       \n",
      "=================================================================\n",
      "Total params: 330,887\n",
      "Trainable params: 330,887\n",
      "Non-trainable params: 0\n",
      "_________________________________________________________________\n"
     ]
    }
   ],
   "source": [
    "model_no4.summary()"
   ]
  },
  {
   "cell_type": "code",
   "execution_count": null,
   "metadata": {},
   "outputs": [],
   "source": [
    "%reload_ext tensorboard\n",
    "\n",
    "%tensorboard --logdir='/content/logs/fit/20210921-102631'"
   ]
  },
  {
   "cell_type": "markdown",
   "metadata": {
    "id": "WFRtFJMM574F"
   },
   "source": [
    "# Model 5"
   ]
  },
  {
   "cell_type": "code",
   "execution_count": 334,
   "metadata": {
    "id": "X84bCjgd4YaV"
   },
   "outputs": [],
   "source": [
    "def create_model():\n",
    "  '''This function returns the created model where function calll happned'''\n",
    "  return Sequential([\n",
    "                     Dense(2, input_shape=(2,), kernel_initializer=HeUniform(), name='input_layer'),\n",
    "                     Dense(512, activation='relu', kernel_initializer=HeUniform(), name='layer1'),\n",
    "                     Dense(256, activation='relu', kernel_initializer=HeUniform(), name='layer2'),\n",
    "                     Dense(128, activation='relu', kernel_initializer=HeUniform(), name='layer3'),\n",
    "                     Dense(256, activation='relu', kernel_initializer=HeUniform(), name='layer4'),\n",
    "                     Dense(512, activation='relu', kernel_initializer=HeUniform(), name='layer5'),\n",
    "                     Dense(1, activation='softmax', name='output_layer'),\n",
    "  ])"
   ]
  },
  {
   "cell_type": "code",
   "execution_count": 336,
   "metadata": {
    "colab": {
     "base_uri": "https://localhost:8080/"
    },
    "id": "h_jKgfsy4Yc5",
    "outputId": "80389f44-f2a2-4556-e109-3000ceb01573"
   },
   "outputs": [
    {
     "name": "stdout",
     "output_type": "stream",
     "text": [
      "WARNING:tensorflow:`write_grads` will be ignored in TensorFlow 2.0 for the `TensorBoard` Callback.\n",
      "Epoch 1/15\n",
      "  3/419 [..............................] - ETA: 20s - loss: 8.2640 - accuracy: 0.5208 WARNING:tensorflow:Callback method `on_train_batch_end` is slow compared to the batch time (batch time: 0.0086s vs `on_train_batch_end` time: 0.0137s). Check your callbacks.\n",
      "419/419 [==============================] - 5s 10ms/step - loss: 0.7410 - accuracy: 0.5000 - val_loss: 0.6494 - val_accuracy: 0.5000\n",
      "\n",
      "Epoch 00001: val_accuracy improved from -inf to 0.50000, saving model to model_save/weights-01-0.5000.hdf5\n",
      "- f1 score 0.666667 - precision 0.500000 - recall 1.000000\n",
      "roc-auc_train: 0.5 - roc-auc_val: 0.5                                                                                                    \n",
      "Epoch 2/15\n",
      "419/419 [==============================] - 4s 9ms/step - loss: 0.6357 - accuracy: 0.5000 - val_loss: 0.6178 - val_accuracy: 0.5000\n",
      "\n",
      "Epoch 00002: val_accuracy did not improve from 0.50000\n",
      "\n",
      "Epoch 00002: ReduceLROnPlateau reducing learning rate to 0.008999999798834325.\n",
      "- f1 score 0.666667 - precision 0.500000 - recall 1.000000\n",
      "roc-auc_train: 0.5 - roc-auc_val: 0.5                                                                                                    \n",
      "Epoch 3/15\n",
      "419/419 [==============================] - 4s 9ms/step - loss: 0.6168 - accuracy: 0.5000 - val_loss: 0.6260 - val_accuracy: 0.5000\n",
      "\n",
      "Epoch 00003: val_accuracy did not improve from 0.50000\n",
      "\n",
      "Epoch 00003: ReduceLROnPlateau reducing learning rate to 0.008099999651312828.\n",
      "- f1 score 0.666667 - precision 0.500000 - recall 1.000000\n",
      "roc-auc_train: 0.5 - roc-auc_val: 0.5                                                                                                    \n",
      "Epoch 00003: early stopping\n"
     ]
    },
    {
     "data": {
      "text/plain": [
       "<keras.callbacks.History at 0x7ff875b20cd0>"
      ]
     },
     "execution_count": 336,
     "metadata": {},
     "output_type": "execute_result"
    }
   ],
   "source": [
    "#https://keras.io/api/optimizers/\n",
    "#https://www.tensorflow.org/api_docs/python/tf/keras/optimizers/SGD\n",
    "#https://www.tensorflow.org/api_docs/python/tf/keras/Model\n",
    "#https://www.tensorflow.org/api_docs/python/tf/keras/callbacks/ReduceLROnPlateau\n",
    "#https://www.tensorflow.org/api_docs/python/tf/keras/callbacks/ModelCheckpoint\n",
    "#https://www.tensorflow.org/api_docs/python/tf/keras/callbacks/EarlyStopping\n",
    "#Model5\n",
    "\n",
    "model_no5=create_model()\n",
    "# optimizer=SGD(learning_rate=0.01, momentum=0.9, nesterov=False, name=\"SGD\")\n",
    "optimizer = tf.keras.optimizers.Adam(learning_rate=0.01)\n",
    "model_no5.compile(optimizer=optimizer, loss='binary_crossentropy', metrics=['accuracy'])\n",
    "\n",
    "# log_directory=\"logs/fit/\"+datetime.datetime.now().strftime(\"%Y%m%d-%H%M%S\")\n",
    "# tensorboard_callback=TensorBoard(log_dir=log_directory, histogram_freq=1, write_graph=True)\n",
    "\n",
    "log_dir=\"logs/fit/\" + datetime.datetime.now().strftime(\"%Y%m%d-%H%M%S\")\n",
    "tensorboard_callback = tf.keras.callbacks.TensorBoard(log_dir=log_dir,histogram_freq=1, write_graph=True,write_grads=True)\n",
    "\n",
    "terminate_nan=terminate_NaN()\n",
    "file_path=\"model_save/weights-{epoch:02d}-{val_accuracy:.4f}.hdf5\"\n",
    "\n",
    "check_point=ModelCheckpoint(filepath=file_path, monitor='val_accuracy', verbose=1, save_best_only=True, mode='max')\n",
    "early_stop=EarlyStopping(monitor='val_accuracy', patience=2, verbose=1, mode='max')\n",
    "reduce_accuracy=ReduceLROnPlateau(monitor='val_accuracy', factor=0.9, patience=1, verbose=1, mode='auto')\n",
    "reduce_lr_for_3epoch=ReduceLROnPlateau(factor=0.9, patience=3, verbose=1)\n",
    "\n",
    "callbacks_list=[check_point, tensorboard_callback, early_stop, reduce_accuracy, reduce_lr_for_3epoch, terminate_nan, metrics_f1_score, roc]\n",
    "\n",
    "model_no5.fit(x=X_train,\n",
    "              y=y_train,\n",
    "              epochs=15,\n",
    "              validation_data=(X_test, y_test),\n",
    "              callbacks=[callbacks_list])"
   ]
  },
  {
   "cell_type": "code",
   "execution_count": 337,
   "metadata": {
    "colab": {
     "base_uri": "https://localhost:8080/"
    },
    "id": "l9eS-oAE7Faa",
    "outputId": "8b704002-1239-471b-cee7-13fd75b77947"
   },
   "outputs": [
    {
     "name": "stdout",
     "output_type": "stream",
     "text": [
      "Model: \"sequential_56\"\n",
      "_________________________________________________________________\n",
      "Layer (type)                 Output Shape              Param #   \n",
      "=================================================================\n",
      "input_layer (Dense)          (None, 2)                 6         \n",
      "_________________________________________________________________\n",
      "layer1 (Dense)               (None, 512)               1536      \n",
      "_________________________________________________________________\n",
      "layer2 (Dense)               (None, 256)               131328    \n",
      "_________________________________________________________________\n",
      "layer3 (Dense)               (None, 128)               32896     \n",
      "_________________________________________________________________\n",
      "layer4 (Dense)               (None, 256)               33024     \n",
      "_________________________________________________________________\n",
      "layer5 (Dense)               (None, 512)               131584    \n",
      "_________________________________________________________________\n",
      "output_layer (Dense)         (None, 1)                 513       \n",
      "=================================================================\n",
      "Total params: 330,887\n",
      "Trainable params: 330,887\n",
      "Non-trainable params: 0\n",
      "_________________________________________________________________\n"
     ]
    }
   ],
   "source": [
    "model_no5.summary()"
   ]
  },
  {
   "cell_type": "code",
   "execution_count": null,
   "metadata": {},
   "outputs": [],
   "source": [
    "%reload_ext tensorboard\n",
    "\n",
    "%tensorboard --logdir='/content/logs/fit/20210921-103411'            #visalize throgh tensorboard"
   ]
  },
  {
   "cell_type": "markdown",
   "metadata": {
    "id": "6e0jiiBD8ESi"
   },
   "source": [
    "# Observation"
   ]
  },
  {
   "cell_type": "markdown",
   "metadata": {
    "id": "nWU3ZNHG8HAX"
   },
   "source": [
    "\n",
    "\n",
    "1.   By looking at all 5 above models model 3 that is activation function relu except output layer giving more accuracy anf f1_score comapre to all other models\n",
    "\n",
    "\n"
   ]
  },
  {
   "cell_type": "code",
   "execution_count": null,
   "metadata": {
    "id": "Kz6O11dU7Fq4"
   },
   "outputs": [],
   "source": []
  }
 ],
 "metadata": {
  "colab": {
   "collapsed_sections": [],
   "name": "Call_Backs_Assignment.ipynb",
   "provenance": []
  },
  "kernelspec": {
   "display_name": "Python 3",
   "language": "python",
   "name": "python3"
  },
  "language_info": {
   "codemirror_mode": {
    "name": "ipython",
    "version": 3
   },
   "file_extension": ".py",
   "mimetype": "text/x-python",
   "name": "python",
   "nbconvert_exporter": "python",
   "pygments_lexer": "ipython3",
   "version": "3.8.8"
  }
 },
 "nbformat": 4,
 "nbformat_minor": 1
}
